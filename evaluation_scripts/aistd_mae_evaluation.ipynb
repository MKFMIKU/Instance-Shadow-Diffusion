{
 "cells": [
  {
   "cell_type": "code",
   "execution_count": 1,
   "metadata": {},
   "outputs": [],
   "source": [
    "import os\n",
    "from os.path import join, basename\n",
    "DATASETS = '/data/'\n",
    "\n",
    "import glob\n",
    "from tqdm import tqdm\n",
    "\n",
    "import cv2\n",
    "import numpy as np\n",
    "from basicsr.metrics import calculate_psnr, calculate_ssim\n",
    "from imresize import imresize, convertDouble2Byte\n",
    "from skimage import color\n",
    "\n",
    "import matplotlib.pyplot as plt\n",
    "\n",
    "crop_border = 0"
   ]
  },
  {
   "cell_type": "code",
   "execution_count": 2,
   "metadata": {},
   "outputs": [
    {
     "name": "stdout",
     "output_type": "stream",
     "text": [
      "number of images for gt_images, gt_masks, output_images 540 540 540\n"
     ]
    }
   ],
   "source": [
    "gt_images = glob.glob(join(DATASETS, 'ISTD_adjusted/test/shadow_free/*.png'))\n",
    "gt_images = sorted(gt_images, key=lambda x: (int(basename(x).split('-')[0]), int(basename(x).split('-')[1][:-4])))\n",
    "\n",
    "gt_masks = glob.glob(join(DATASETS, 'ISTD_adjusted/test/mask/*.png'))\n",
    "gt_masks = sorted(gt_masks, key=lambda x: (int(basename(x).split('-')[0]), int(basename(x).split('-')[1][:-4])))\n",
    "\n",
    "output_images = glob.glob(join(DATASETS, 'ISTD_adjusted/results/*.png'))\n",
    "output_images = sorted(output_images, key=lambda x: (int(basename(x).split('-')[0]), int(basename(x).split('-')[1][:-4])))\n",
    "\n",
    "print(\"number of images for gt_images, gt_masks, output_images\", len(gt_images), len(gt_masks), len(output_images))"
   ]
  },
  {
   "cell_type": "code",
   "execution_count": 3,
   "metadata": {},
   "outputs": [
    {
     "name": "stderr",
     "output_type": "stream",
     "text": [
      "540it [02:18,  3.89it/s]"
     ]
    },
    {
     "name": "stdout",
     "output_type": "stream",
     "text": [
      "Average: ALL-RMSE: 3.116606, NS-RMSE: 2.682678, S-RMSE: 5.433195\n",
      "Average: ALL-PSNR: 34.211980 dB, ALL-SSIM: 0.965837\n",
      "Average: NS-PSNR: 37.511926 dB, NS-SSIM: 0.979230\n",
      "Average: S-PSNR: 38.517537 dB, S-SSIM: 0.990810\n"
     ]
    },
    {
     "name": "stderr",
     "output_type": "stream",
     "text": [
      "\n"
     ]
    }
   ],
   "source": [
    "s_psnr_all = []\n",
    "s_ssim_all = []\n",
    "\n",
    "ns_psnr_all = []\n",
    "ns_ssim_all = []\n",
    "\n",
    "a_psnr_all = []\n",
    "a_ssim_all = []\n",
    "\n",
    "rl = []\n",
    "ra = []\n",
    "rb = []\n",
    "\n",
    "total_dist = 0\n",
    "total_pixel = 0\n",
    "total_dists = 0\n",
    "total_pixels = 0\n",
    "total_distn = 0\n",
    "total_pixeln = 0\n",
    "\n",
    "for gt_path, output_path, mask_path in tqdm(zip(gt_images, output_images, gt_masks)):\n",
    "    gt_img = cv2.imread(gt_path)[..., ::-1].astype(np.float64)\n",
    "    output_img = cv2.imread(output_path)[..., ::-1].astype(np.float64)\n",
    "    mask =  cv2.imread(mask_path, cv2.IMREAD_UNCHANGED)\n",
    "    if len(mask.shape) > 2:\n",
    "        mask = cv2.cvtColor(mask, cv2.COLOR_BGR2GRAY)\n",
    "    mask = mask.astype(np.float64)\n",
    "\n",
    "    gt_img = np.clip(imresize(gt_img, output_shape=(256, 256)) / 255., 0.0, 1.0)\n",
    "    output_img = np.clip(imresize(output_img, output_shape=(256, 256)) / 255., 0.0, 1.0)\n",
    "    mask = np.clip(imresize(mask,  output_shape=(256, 256)) / 255., 0.0, 1.0)\n",
    "\n",
    "    lab_gt_img = cv2.cvtColor(np.float32(gt_img), cv2.COLOR_RGB2LAB)\n",
    "    lab_output_img = cv2.cvtColor(np.float32(output_img), cv2.COLOR_RGB2LAB)\n",
    "\n",
    "    gt_img = convertDouble2Byte(gt_img)\n",
    "    output_img = convertDouble2Byte(output_img)\n",
    "\n",
    "    s_mask = mask.copy()\n",
    "    ns_mask = 1 - s_mask.copy()\n",
    "\n",
    "    s_gt_img = gt_img * s_mask[..., None].repeat(3, 2)\n",
    "    s_output_img = output_img * s_mask[..., None].repeat(3, 2)\n",
    "    s_psnr_all.append(calculate_psnr(s_gt_img, s_output_img, crop_border=crop_border, input_order='HWC'))\n",
    "    s_ssim_all.append(calculate_ssim(s_gt_img, s_output_img, crop_border=crop_border, input_order='HWC'))\n",
    "    \n",
    "    ns_gt_img = gt_img * ns_mask[..., None].repeat(3, 2)\n",
    "    ns_output_img = output_img * ns_mask[..., None].repeat(3, 2)\n",
    "    ns_psnr_all.append(calculate_psnr(ns_gt_img, ns_output_iPmg, crop_border=crop_border, input_order='HWC'))\n",
    "    ns_ssim_all.append(calculate_ssim(ns_gt_img, ns_output_img, crop_border=crop_border, input_order='HWC'))\n",
    "\n",
    "    a_psnr_all.append(calculate_psnr(gt_img, output_img, crop_border=crop_border, input_order='HWC'))\n",
    "    a_ssim_all.append(calculate_ssim(gt_img, output_img, crop_border=crop_border, input_order='HWC'))\n",
    "\n",
    "    dist = np.abs(lab_gt_img - lab_output_img)\n",
    "    total_dist = total_dist + np.sum(dist)\n",
    "    total_pixel = total_pixel + np.sum(np.ones_like(mask))\n",
    "\n",
    "    dist = np.abs(lab_gt_img - lab_output_img) * s_mask[..., None].repeat(3, 2)\n",
    "    total_dists = total_dists + np.sum(dist)\n",
    "    total_pixels = total_pixels + np.sum(s_mask)\n",
    "\n",
    "    dist = np.abs(lab_gt_img - lab_output_img) * ns_mask[..., None].repeat(3, 2)\n",
    "    total_distn = total_distn + np.sum(dist)\n",
    "    total_pixeln = total_pixeln + np.sum(ns_mask)\n",
    "\n",
    "print(f'Average: ALL-RMSE: {total_dist / total_pixel:.6f}, NS-RMSE: {total_distn / total_pixeln:.6f}, S-RMSE: {total_dists / total_pixels:.6f}')\n",
    "print(f'Average: ALL-PSNR: {sum(a_psnr_all) / len(a_psnr_all):.6f} dB, ALL-SSIM: {sum(a_ssim_all) / len(a_ssim_all):.6f}')\n",
    "print(f'Average: NS-PSNR: {sum(ns_psnr_all) / len(ns_psnr_all):.6f} dB, NS-SSIM: {sum(ns_ssim_all) / len(ns_ssim_all):.6f}')\n",
    "print(f'Average: S-PSNR: {sum(s_psnr_all) / len(s_psnr_all):.6f} dB, S-SSIM: {sum(s_ssim_all) / len(s_ssim_all):.6f}')"
   ]
  },
  {
   "cell_type": "code",
   "execution_count": null,
   "metadata": {},
   "outputs": [],
   "source": []
  },
  {
   "cell_type": "code",
   "execution_count": null,
   "metadata": {},
   "outputs": [],
   "source": []
  },
  {
   "cell_type": "code",
   "execution_count": null,
   "metadata": {},
   "outputs": [],
   "source": []
  },
  {
   "cell_type": "code",
   "execution_count": null,
   "metadata": {},
   "outputs": [],
   "source": []
  },
  {
   "cell_type": "code",
   "execution_count": null,
   "metadata": {},
   "outputs": [],
   "source": []
  }
 ],
 "metadata": {
  "kernelspec": {
   "display_name": "Python 3.8.12 ('base')",
   "language": "python",
   "name": "python3"
  },
  "language_info": {
   "codemirror_mode": {
    "name": "ipython",
    "version": 3
   },
   "file_extension": ".py",
   "mimetype": "text/x-python",
   "name": "python",
   "nbconvert_exporter": "python",
   "pygments_lexer": "ipython3",
   "version": "3.8.12"
  },
  "orig_nbformat": 4,
  "vscode": {
   "interpreter": {
    "hash": "d4d1e4263499bec80672ea0156c357c1ee493ec2b1c70f0acce89fc37c4a6abe"
   }
  }
 },
 "nbformat": 4,
 "nbformat_minor": 2
}
